{
 "cells": [
  {
   "cell_type": "markdown",
   "id": "32961601",
   "metadata": {},
   "source": [
    "## Zuber"
   ]
  },
  {
   "cell_type": "markdown",
   "id": "735bf1cf",
   "metadata": {},
   "source": [
    "#### 1. Introduction "
   ]
  },
  {
   "cell_type": "markdown",
   "id": "cfd6f8d9",
   "metadata": {},
   "source": [
    "This notebook works with two datasets that contain information for ride services in the Chicago Area from Nov. 15-16, 2017. This is a cursory glance at the data to determine the top ten companies that provided the most rides and the likewise destination neighborhoods. These findings will be bolstered by data visualization and exploratory analysis"
   ]
  },
  {
   "cell_type": "markdown",
   "id": "4405c58d",
   "metadata": {},
   "source": [
    "##### 1.2 Initialization"
   ]
  },
  {
   "cell_type": "code",
   "execution_count": null,
   "id": "1d1fcd76",
   "metadata": {},
   "outputs": [],
   "source": [
    "# Import libraries that might be necessary\n",
    "\n",
    "import pandas as pd\n",
    "import numpy as np\n",
    "import requests\n",
    "from bs4 import BeautifulSoup\n",
    "import matplotlib.pyplot as plt\n",
    "import seaborn as sns\n",
    "import plotly.express as px\n",
    "import statsmodels.api as sm\n",
    "from scipy.interpolate import UnivariateSpline\n",
    "import scipy.stats as stats\n",
    "\n",
    "# Import DataFrams\n",
    "    #DataFraame with company name and total rides\n",
    "comp_count_trip = 'https://raw.githubusercontent.com/DHE42/zuber/refs/heads/main/moved_project_sql_result_01.csv'\n",
    "comp_count_trip_df = pd.read_csv(comp_count_trip)\n",
    "\n",
    "    #DataFrame with both destination and corresponding ride average\n",
    "dropoff_avg_trip = 'https://raw.githubusercontent.com/DHE42/zuber/refs/heads/main/moved_project_sql_result_04.csv'\n",
    "dropoff_avg_trip_df = pd.read_csv(dropoff_avg_trip)\n",
    "\n",
    "    #DataFrame with date, weather, and ride duration for Nov. 2017\n",
    "loop_ohare = 'https://raw.githubusercontent.com/DHE42/zuber/refs/heads/main/moved_project_sql_result_07.csv'\n",
    "loop_ohare_df = pd.read_csv(loop_ohare)\n"
   ]
  },
  {
   "cell_type": "markdown",
   "id": "ee64a06f",
   "metadata": {},
   "source": [
    "Above, I have imported necessary libraries and the two datasets I'll be working with. Below, I will review the data."
   ]
  },
  {
   "cell_type": "markdown",
   "id": "e5dce7ca",
   "metadata": {},
   "source": [
    "##### 2. Data Review"
   ]
  },
  {
   "cell_type": "code",
   "execution_count": 8,
   "id": "47232bda",
   "metadata": {},
   "outputs": [
    {
     "name": "stdout",
     "output_type": "stream",
     "text": [
      "Head of comp_count_trip_df\n",
      "\n",
      "                      company_name  trips_amount\n",
      "0                        Flash Cab         19558\n",
      "1        Taxi Affiliation Services         11422\n",
      "2                 Medallion Leasin         10367\n",
      "3                       Yellow Cab          9888\n",
      "4  Taxi Affiliation Service Yellow          9299\n",
      "\n",
      "Info of comp_count_trip_df\n",
      "\n",
      "<class 'pandas.core.frame.DataFrame'>\n",
      "RangeIndex: 64 entries, 0 to 63\n",
      "Data columns (total 2 columns):\n",
      " #   Column        Non-Null Count  Dtype \n",
      "---  ------        --------------  ----- \n",
      " 0   company_name  64 non-null     object\n",
      " 1   trips_amount  64 non-null     int64 \n",
      "dtypes: int64(1), object(1)\n",
      "memory usage: 1.1+ KB\n",
      "None\n",
      "\n",
      "Describe comp_count_trip_df\n",
      "\n",
      "       trips_amount\n",
      "count     64.000000\n",
      "mean    2145.484375\n",
      "std     3812.310186\n",
      "min        2.000000\n",
      "25%       20.750000\n",
      "50%      178.500000\n",
      "75%     2106.500000\n",
      "max    19558.000000\n",
      "\n",
      "Null values of comp_count_trip_df\n",
      "\n",
      "company_name    0\n",
      "trips_amount    0\n",
      "dtype: int64\n",
      "\n",
      "Duplicates of comp_count_trip_df\n",
      "\n",
      "0\n",
      "\n"
     ]
    }
   ],
   "source": [
    "# Review  comp_count_trip_df\n",
    "print(\"Head of comp_count_trip_df\")\n",
    "print()\n",
    "print(comp_count_trip_df.head())\n",
    "print()\n",
    "\n",
    "print(\"Info of comp_count_trip_df\")\n",
    "print()\n",
    "print(comp_count_trip_df.info())\n",
    "print()\n",
    "\n",
    "print(\"Describe comp_count_trip_df\")\n",
    "print()\n",
    "print(comp_count_trip_df.describe())\n",
    "print()\n",
    "\n",
    "print(\"Null values of comp_count_trip_df\")\n",
    "print()\n",
    "print(comp_count_trip_df.isnull().sum())\n",
    "print()\n",
    "\n",
    "print(\"Duplicates of comp_count_trip_df\")\n",
    "print()\n",
    "print(comp_count_trip_df.duplicated().sum())\n",
    "print()\n",
    "\n"
   ]
  },
  {
   "cell_type": "markdown",
   "id": "cf9118d9",
   "metadata": {},
   "source": [
    "The first thing that jumps out to me in the head of the data is the lack of standardization, which means I will convert the object dtype values in company_name into snake case, make sure they are all lower case, and then perform the requisite data cleaning operations such as removing heading or tailing spaces, etc. I will also rename the trips_amount column trip_sum for simplicity and accuracy. The data types for the trips appear to be appropriate, as one column is categorical and the other is numerical sans decimal precision necessity since there is no such thing as a partial trip. Separately calling the null values and duplicate rows confirms the lack of these types of data errors as originally shown using the describe() function. With a mean of about 2,145, a standard deviation of of about 3812, and a median of 178, it is obvious that there is high variability in the dataset, and that median is likely the best representation of ride company performance during the two days of November 15-16, 2017."
   ]
  },
  {
   "cell_type": "code",
   "execution_count": 6,
   "id": "15445bbf",
   "metadata": {},
   "outputs": [
    {
     "name": "stdout",
     "output_type": "stream",
     "text": [
      "<class 'pandas.core.frame.DataFrame'>\n",
      "RangeIndex: 94 entries, 0 to 93\n",
      "Data columns (total 2 columns):\n",
      " #   Column                 Non-Null Count  Dtype  \n",
      "---  ------                 --------------  -----  \n",
      " 0   dropoff_location_name  94 non-null     object \n",
      " 1   average_trips          94 non-null     float64\n",
      "dtypes: float64(1), object(1)\n",
      "memory usage: 1.6+ KB\n"
     ]
    },
    {
     "data": {
      "text/plain": [
       "dropoff_location_name    0\n",
       "average_trips            0\n",
       "dtype: int64"
      ]
     },
     "execution_count": 6,
     "metadata": {},
     "output_type": "execute_result"
    }
   ],
   "source": [
    "# Review dropoff_avg_trip_df\n",
    "dropoff_avg_trip_df.head()\n",
    "dropoff_avg_trip_df.info()\n",
    "dropoff_avg_trip_df.describe()\n",
    "dropoff_avg_trip_df.isnull().sum()"
   ]
  }
 ],
 "metadata": {
  "kernelspec": {
   "display_name": "base",
   "language": "python",
   "name": "python3"
  },
  "language_info": {
   "codemirror_mode": {
    "name": "ipython",
    "version": 3
   },
   "file_extension": ".py",
   "mimetype": "text/x-python",
   "name": "python",
   "nbconvert_exporter": "python",
   "pygments_lexer": "ipython3",
   "version": "3.12.2"
  }
 },
 "nbformat": 4,
 "nbformat_minor": 5
}
